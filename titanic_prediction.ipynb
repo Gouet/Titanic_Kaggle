{
 "cells": [
  {
   "cell_type": "heading",
   "metadata": {
    "collapsed": true
   },
   "level": 1,
   "source": [
    "Import library and Initialisation"
   ]
  },
  {
   "cell_type": "code",
   "execution_count": 524,
   "metadata": {
    "collapsed": false
   },
   "outputs": [
    {
     "data": {
      "text/html": [
       "<div>\n",
       "<style scoped>\n",
       "    .dataframe tbody tr th:only-of-type {\n",
       "        vertical-align: middle;\n",
       "    }\n",
       "\n",
       "    .dataframe tbody tr th {\n",
       "        vertical-align: top;\n",
       "    }\n",
       "\n",
       "    .dataframe thead th {\n",
       "        text-align: right;\n",
       "    }\n",
       "</style>\n",
       "<table border=\"1\" class=\"dataframe\">\n",
       "  <thead>\n",
       "    <tr style=\"text-align: right;\">\n",
       "      <th></th>\n",
       "      <th>PassengerId</th>\n",
       "      <th>Survived</th>\n",
       "      <th>Pclass</th>\n",
       "      <th>Name</th>\n",
       "      <th>Sex</th>\n",
       "      <th>Age</th>\n",
       "      <th>SibSp</th>\n",
       "      <th>Parch</th>\n",
       "      <th>Ticket</th>\n",
       "      <th>Fare</th>\n",
       "      <th>Cabin</th>\n",
       "      <th>Embarked</th>\n",
       "    </tr>\n",
       "  </thead>\n",
       "  <tbody>\n",
       "    <tr>\n",
       "      <th>867</th>\n",
       "      <td>868</td>\n",
       "      <td>0</td>\n",
       "      <td>1</td>\n",
       "      <td>Roebling, Mr. Washington Augustus II</td>\n",
       "      <td>male</td>\n",
       "      <td>31.0</td>\n",
       "      <td>0</td>\n",
       "      <td>0</td>\n",
       "      <td>PC 17590</td>\n",
       "      <td>50.4958</td>\n",
       "      <td>A24</td>\n",
       "      <td>S</td>\n",
       "    </tr>\n",
       "  </tbody>\n",
       "</table>\n",
       "</div>"
      ],
      "text/plain": [
       "<div>\n",
       "<style scoped>\n",
       "    .dataframe tbody tr th:only-of-type {\n",
       "        vertical-align: middle;\n",
       "    }\n",
       "\n",
       "    .dataframe tbody tr th {\n",
       "        vertical-align: top;\n",
       "    }\n",
       "\n",
       "    .dataframe thead th {\n",
       "        text-align: right;\n",
       "    }\n",
       "</style>\n",
       "<table border=\"1\" class=\"dataframe\">\n",
       "  <thead>\n",
       "    <tr style=\"text-align: right;\">\n",
       "      <th></th>\n",
       "      <th>PassengerId</th>\n",
       "      <th>Survived</th>\n",
       "      <th>Pclass</th>\n",
       "      <th>Name</th>\n",
       "      <th>Sex</th>\n",
       "      <th>Age</th>\n",
       "      <th>SibSp</th>\n",
       "      <th>Parch</th>\n",
       "      <th>Ticket</th>\n",
       "      <th>Fare</th>\n",
       "      <th>Cabin</th>\n",
       "      <th>Embarked</th>\n",
       "    </tr>\n",
       "  </thead>\n",
       "  <tbody>\n",
       "    <tr>\n",
       "      <th>867</th>\n",
       "      <td>868</td>\n",
       "      <td>0</td>\n",
       "      <td>1</td>\n",
       "      <td>Roebling, Mr. Washington Augustus II</td>\n",
       "      <td>male</td>\n",
       "      <td>31.0</td>\n",
       "      <td>0</td>\n",
       "      <td>0</td>\n",
       "      <td>PC 17590</td>\n",
       "      <td>50.4958</td>\n",
       "      <td>A24</td>\n",
       "      <td>S</td>\n",
       "    </tr>\n",
       "  </tbody>\n",
       "</table>\n",
       "</div>"
      ]
     },
     "execution_count": 524,
     "metadata": {},
     "output_type": "execute_result"
    }
   ],
   "source": [
    "import pandas as pd\n",
    "import seaborn as sns\n",
    "import numpy as np\n",
    "\n",
    "titanic_info = pd.read_csv('./data/train.csv')\n",
    "test_submission = pd.read_csv('./data/test.csv')\n",
    "\n",
    "titanic_info.head(5)\n",
    "\n",
    "titanic_info.loc[titanic_info['Cabin'] == 'A24']"
   ]
  },
  {
   "cell_type": "heading",
   "metadata": {},
   "level": 1,
   "source": [
    "The relationship between data and Survived :"
   ]
  },
  {
   "cell_type": "heading",
   "metadata": {},
   "level": 1,
   "source": [
    "See the relation between women and men / survived"
   ]
  },
  {
   "cell_type": "code",
   "execution_count": 474,
   "metadata": {},
   "outputs": [
    {
     "name": "stdout",
     "output_type": "stream",
     "text": [
      "Percentage women survived:  74.20382165605095\nPercentage men survived:  18.890814558058924\n"
     ]
    },
    {
     "name": "stderr",
     "output_type": "stream",
     "text": [
      "/anaconda3/envs/DNAI_ENV/lib/python3.6/site-packages/scipy/stats/stats.py:1713: FutureWarning: Using a non-tuple sequence for multidimensional indexing is deprecated; use `arr[tuple(seq)]` instead of `arr[seq]`. In the future this will be interpreted as an array index, `arr[np.array(seq)]`, which will result either in an error or a different result.\n  return np.add.reduce(sorted[indexer] * weights, axis=axis) / sumval\n"
     ]
    },
    {
     "data": {
      "text/plain": [
       "<matplotlib.axes._subplots.AxesSubplot at 0x1a46957a90>"
      ]
     },
     "execution_count": 474,
     "metadata": {},
     "output_type": "execute_result"
    },
    {
     "data": {
      "image/png": "[encoded data removed]",
      "text/plain": [
       "<Figure size 432x288 with 1 Axes>"
      ]
     },
     "metadata": {},
     "output_type": "display_data"
    }
   ],
   "source": [
    "print('Percentage women survived: ', titanic_info[\"Survived\"][titanic_info[\"Sex\"] == 'female'].value_counts(normalize=True)[1]*100)\n",
    "print('Percentage men survived: ', titanic_info[\"Survived\"][titanic_info[\"Sex\"] == 'male'].value_counts(normalize=True)[1]*100)\n",
    "\n",
    "sns.barplot(x='Sex', y='Survived', data=titanic_info)"
   ]
  },
  {
   "cell_type": "markdown",
   "metadata": {},
   "source": [
    "As we can see, there is more women who survived than men.\n",
    "There is probably a relation between women and survived."
   ]
  },
  {
   "cell_type": "heading",
   "metadata": {},
   "level": 1,
   "source": [
    "Let's see the relation between the age and survived."
   ]
  },
  {
   "cell_type": "code",
   "execution_count": 475,
   "metadata": {},
   "outputs": [
    {
     "name": "stdout",
     "output_type": "stream",
     "text": [
      "Child  0.16666666666666666\nTeenager  0.6666666666666666\nStudent  0.34375\nYoung Adult  0.4\n"
     ]
    },
    {
     "data": {
      "text/plain": [
       "<matplotlib.axes._subplots.AxesSubplot at 0x1a48114c50>"
      ]
     },
     "execution_count": 475,
     "metadata": {},
     "output_type": "execute_result"
    },
    {
     "data": {
      "image/png": "[encoded data removed]",
      "text/plain": [
       "<Figure size 432x288 with 1 Axes>"
      ]
     },
     "metadata": {},
     "output_type": "display_data"
    }
   ],
   "source": [
    "bins = [-1, 0, 9, 11, 15, 20, 36, 60, np.inf]\n",
    "labels = ['Unknown', 'Baby', 'Child', 'Teenager', 'Student', 'Young Adult', 'Adult', 'Senior']\n",
    "\n",
    "titanic_info['AgeGroup'] = pd.cut(titanic_info['Age'], bins=bins, labels=labels)\n",
    "test_submission['AgeGroup'] = pd.cut(test_submission['Age'], bins=bins, labels=labels)\n",
    "print('Child ', titanic_info[titanic_info['AgeGroup'] == 'Child']['Survived'].value_counts(normalize=True)[1])\n",
    "print('Teenager ', titanic_info[titanic_info['AgeGroup'] == 'Teenager']['Survived'].value_counts(normalize=True)[1])\n",
    "print('Student ', titanic_info[titanic_info['AgeGroup'] == 'Student']['Survived'].value_counts(normalize=True)[1])\n",
    "print('Young Adult ', titanic_info[titanic_info['AgeGroup'] == 'Young Adult']['Survived'].value_counts(normalize=True)[1])\n",
    "\n",
    "sns.barplot(x='AgeGroup', y='Survived', data=titanic_info)"
   ]
  },
  {
   "cell_type": "markdown",
   "metadata": {},
   "source": [
    "It seems that Baby as more chance to suvived than Senior."
   ]
  },
  {
   "cell_type": "heading",
   "metadata": {},
   "level": 1,
   "source": [
    "PClass"
   ]
  },
  {
   "cell_type": "code",
   "execution_count": 476,
   "metadata": {},
   "outputs": [
    {
     "data": {
      "text/plain": [
       "<matplotlib.axes._subplots.AxesSubplot at 0x1a46938080>"
      ]
     },
     "execution_count": 476,
     "metadata": {},
     "output_type": "execute_result"
    },
    {
     "data": {
      "image/png": "[encoded data removed]",
      "text/plain": [
       "<Figure size 432x288 with 1 Axes>"
      ]
     },
     "metadata": {},
     "output_type": "display_data"
    }
   ],
   "source": [
    "sns.barplot(x='Pclass', y='Survived', data=titanic_info)"
   ]
  },
  {
   "cell_type": "markdown",
   "metadata": {},
   "source": [
    "Upper class has a higher survived rate than Lower class"
   ]
  },
  {
   "cell_type": "heading",
   "metadata": {},
   "level": 1,
   "source": [
    "Title"
   ]
  },
  {
   "cell_type": "code",
   "execution_count": 477,
   "metadata": {
    "collapsed": false
   },
   "outputs": [
    {
     "data": {
      "text/plain": [
       "<matplotlib.axes._subplots.AxesSubplot at 0x1a48897d30>"
      ]
     },
     "execution_count": 477,
     "metadata": {},
     "output_type": "execute_result"
    },
    {
     "data": {
      "image/png": "[encoded data removed]",
      "text/plain": [
       "<Figure size 432x288 with 1 Axes>"
      ]
     },
     "metadata": {},
     "output_type": "display_data"
    }
   ],
   "source": [
    "titanic_info['Title'] = titanic_info['Name'].str.extract(' ([A-Za-z]+)\\.', expand=False)\n",
    "titanic_info['Title'] = titanic_info['Title'].replace(['Lady', 'Capt', 'Col', 'Don', 'Dr', 'Major', 'Rev', 'Jonkheer', 'Dona'], 'Rare')\n",
    "titanic_info['Title'] = titanic_info['Title'].replace(['Countess', 'Lady', 'Sir'], 'Royal')\n",
    "titanic_info['Title'] = titanic_info['Title'].replace('Mlle', 'Miss')\n",
    "titanic_info['Title'] = titanic_info['Title'].replace('Ms', 'Miss')\n",
    "titanic_info['Title'] = titanic_info['Title'].replace('Mme', 'Mrs')\n",
    "\n",
    "test_submission['Title'] = test_submission['Name'].str.extract(' ([A-Za-z]+)\\.', expand=False)\n",
    "test_submission['Title'] = test_submission['Title'].replace(['Lady', 'Capt', 'Col', 'Don', 'Dr', 'Major', 'Rev', 'Jonkheer', 'Dona'], 'Rare')\n",
    "test_submission['Title'] = test_submission['Title'].replace(['Countess', 'Lady', 'Sir'], 'Royal')\n",
    "test_submission['Title'] = test_submission['Title'].replace('Mlle', 'Miss')\n",
    "test_submission['Title'] = test_submission['Title'].replace('Ms', 'Miss')\n",
    "test_submission['Title'] = test_submission['Title'].replace('Mme', 'Mrs')\n",
    "\n",
    "sns.barplot(x='Title', y='Survived', data=titanic_info)"
   ]
  },
  {
   "cell_type": "heading",
   "metadata": {},
   "level": 1,
   "source": [
    "Fare"
   ]
  },
  {
   "cell_type": "code",
   "execution_count": 478,
   "metadata": {},
   "outputs": [
    {
     "data": {
      "text/plain": [
       "<matplotlib.axes._subplots.AxesSubplot at 0x1a48795ac8>"
      ]
     },
     "execution_count": 478,
     "metadata": {},
     "output_type": "execute_result"
    },
    {
     "data": {
      "image/png": "[encoded data removed]",
      "text/plain": [
       "<Figure size 432x288 with 1 Axes>"
      ]
     },
     "metadata": {},
     "output_type": "display_data"
    }
   ],
   "source": [
    "bins=[-1, 0, 7, 14, 31, 300, np.inf]\n",
    "labels=['Unknown', 'Free', 'Free-more', 'economics', 'business', 'VIP']\n",
    "\n",
    "titanic_info['FareGroup'] = pd.cut(titanic_info['Fare'], bins=bins, labels=labels)\n",
    "test_submission['FareGroup'] = pd.cut(test_submission['Fare'], bins=bins, labels=labels)\n",
    "\n",
    "sns.barplot(x='FareGroup', y='Survived', data=titanic_info)"
   ]
  },
  {
   "cell_type": "markdown",
   "metadata": {},
   "source": [
    "VIP class give you more chance to survived."
   ]
  },
  {
   "cell_type": "heading",
   "metadata": {},
   "level": 1,
   "source": [
    "Parch"
   ]
  },
  {
   "cell_type": "code",
   "execution_count": 479,
   "metadata": {},
   "outputs": [
    {
     "data": {
      "text/plain": [
       "<matplotlib.axes._subplots.AxesSubplot at 0x1a4896e6a0>"
      ]
     },
     "execution_count": 479,
     "metadata": {},
     "output_type": "execute_result"
    },
    {
     "data": {
      "image/png": "[encoded data removed]",
      "text/plain": [
       "<Figure size 432x288 with 1 Axes>"
      ]
     },
     "metadata": {},
     "output_type": "display_data"
    }
   ],
   "source": [
    "sns.barplot(x='Parch', y='Survived', data=titanic_info)"
   ]
  },
  {
   "cell_type": "markdown",
   "metadata": {},
   "source": [
    "People between 1 and 3 children or parent have more chance to survived than people with 4 or more children or family.\n",
    "People alone have less chance to survived than people between 1 and 3 parents."
   ]
  },
  {
   "cell_type": "heading",
   "metadata": {},
   "level": 1,
   "source": [
    "Sibsp"
   ]
  },
  {
   "cell_type": "code",
   "execution_count": 480,
   "metadata": {},
   "outputs": [
    {
     "data": {
      "text/plain": [
       "<matplotlib.axes._subplots.AxesSubplot at 0x1a48cfee80>"
      ]
     },
     "execution_count": 480,
     "metadata": {},
     "output_type": "execute_result"
    },
    {
     "data": {
      "image/png": "[encoded data removed]",
      "text/plain": [
       "<Figure size 432x288 with 1 Axes>"
      ]
     },
     "metadata": {},
     "output_type": "display_data"
    }
   ],
   "source": [
    "titanic_info['SibSp'].value_counts()\n",
    "\n",
    "sns.barplot(x='SibSp', y='Survived', data=titanic_info)"
   ]
  },
  {
   "cell_type": "markdown",
   "metadata": {},
   "source": [
    "People with 1 or 2 siblings / spouses have more chance to live than people with 0, 3, 4, 5, 8 siblings / spouses."
   ]
  },
  {
   "cell_type": "heading",
   "metadata": {},
   "level": 1,
   "source": [
    "Cabin"
   ]
  },
  {
   "cell_type": "code",
   "execution_count": 495,
   "metadata": {
    "collapsed": false
   },
   "outputs": [
    {
     "name": "stdout",
     "output_type": "stream",
     "text": [
      "[6, 5, 7, 32, 31, 19, 34, 14, 16, 10, 20, 23, 26, 36, 24]\n"
     ]
    },
    {
     "data": {
      "text/plain": [
       "<matplotlib.axes._subplots.AxesSubplot at 0x1a48f0e6a0>"
      ]
     },
     "execution_count": 495,
     "metadata": {},
     "output_type": "execute_result"
    },
    {
     "data": {
      "image/png": "[encoded data removed]",
      "text/plain": [
       "<Figure size 432x288 with 1 Axes>"
      ]
     },
     "metadata": {},
     "output_type": "display_data"
    }
   ],
   "source": [
    "titanic_info['Cabin'].fillna('U0', inplace=True)\n",
    "#print(titanic_info['Cabin'])\n",
    "data = titanic_info['Cabin'].str.split()\n",
    "cabins_id = []\n",
    "cabins_nbr = []\n",
    "test_nbr = []\n",
    "\n",
    "for cabin in data:\n",
    "    cabins_id.append(cabin[0][0:1])\n",
    "    try:\n",
    "        cabins_nbr.append(int(cabin[0][1:]))\n",
    "        if cabin[0][0:1] == 'A':\n",
    "            test_nbr.append(int(cabin[0][1:]))\n",
    "\n",
    "    except ValueError:\n",
    "        cabins_nbr.append(int(0))\n",
    "        \n",
    "print(test_nbr)        \n",
    "test_submission['Cabin'].fillna('U0', inplace=True)\n",
    "data_sub = test_submission['Cabin'].str.split()\n",
    "cabins_id_sub = []\n",
    "cabins_nbr_sub = []\n",
    "for cabin in data_sub:\n",
    "    cabins_id_sub.append(cabin[0][0:1])\n",
    "    try:\n",
    "        cabins_nbr_sub.append(int(cabin[0][1:]))\n",
    "    except ValueError:\n",
    "        cabins_nbr_sub.append(int(0))\n",
    "    \n",
    "#print(cabins_nbr)\n",
    "\n",
    "\n",
    "labels2=['0', '1', '42', '123', '310']\n",
    "bins2=[0, 1, 42, 123, 310, np.inf]\n",
    "titanic_info['CabinValue'] = cabins_nbr\n",
    "#print(titanic_info['CabinValue'])\n",
    "titanic_info['CabinValue'] = pd.cut(titanic_info['CabinValue'], bins=bins2, labels=labels2)\n",
    "titanic_info['CabinValue'].fillna('0', inplace=True)\n",
    "#print(titanic_info['CabinValue'])\n",
    "titanic_info['CabinId'] = cabins_id\n",
    "\n",
    "\n",
    "test_submission['CabinValue'] = cabins_nbr_sub\n",
    "test_submission['CabinValue'] = pd.cut(test_submission['CabinValue'], bins=bins2, labels=labels2)\n",
    "test_submission['CabinId'] = cabins_id_sub\n",
    "test_submission['CabinValue'].fillna('0', inplace=True)\n",
    "\n",
    "#titanic_info['CabinValue'] = titanic_info['Cabin'].isnull().astype(int)\n",
    "#test_submission['CabinValue'] = test_submission['Cabin'].isnull().astype(int)\n",
    "sns.barplot(x='CabinId', y='Survived', data=titanic_info)\n",
    "titanic_info['CabinValue']\n",
    "#sns.barplot(x='CabinTest', y='Survived', data=titanic_info)\n",
    "sns.barplot(x='CabinId', y='Survived', data=titanic_info)"
   ]
  },
  {
   "cell_type": "markdown",
   "metadata": {},
   "source": [
    "People with cabin have more chance to survive than people without cabin."
   ]
  },
  {
   "cell_type": "heading",
   "metadata": {},
   "level": 1,
   "source": [
    "Ticket"
   ]
  },
  {
   "cell_type": "code",
   "execution_count": 482,
   "metadata": {
    "collapsed": false
   },
   "outputs": [
    {
     "data": {
      "text/plain": [
       "<matplotlib.axes._subplots.AxesSubplot at 0x1a46996748>"
      ]
     },
     "execution_count": 482,
     "metadata": {},
     "output_type": "execute_result"
    },
    {
     "data": {
      "image/png": "[encoded data removed]",
      "text/plain": [
       "<Figure size 432x288 with 1 Axes>"
      ]
     },
     "metadata": {},
     "output_type": "display_data"
    }
   ],
   "source": [
    "#print(titanic_info[titanic_info['Ticket'] == 'LINE']['Survived'].value_counts(normalize=True)[0])\n",
    "data = titanic_info['Ticket'].str.split()\n",
    "nbr = []\n",
    "\n",
    "for places in data:\n",
    "    try:\n",
    "        if len(places) > 1:\n",
    "            #print('---', places[1])\n",
    "            nbr.append(int(places[1]))\n",
    "        else:\n",
    "            nbr.append(int(places[0]))\n",
    "    except ValueError:\n",
    "        nbr.append(1)\n",
    "        pass\n",
    "\n",
    "nbr_submission = []\n",
    "data_submission = test_submission['Ticket'].str.split()\n",
    "for places in data_submission:\n",
    "    try:\n",
    "        if len(places) > 1:\n",
    "            #print('---', places[1])\n",
    "            nbr_submission.append(int(places[1]))\n",
    "        else:\n",
    "            nbr_submission.append(int(places[0]))\n",
    "    except ValueError:\n",
    "        nbr_submission.append(1)\n",
    "        pass\n",
    "\n",
    "titanic_info['ticket_number'] = nbr\n",
    "test_submission['ticket_number'] = nbr_submission\n",
    "\n",
    "bins=[0,  6000, 15000, 20000, 25000, 30000, 40000, np.inf]\n",
    "labels=['0',  '6000', '15000', '20000', '25000', '30000', '40000']\n",
    "titanic_info['TicketValue'] = pd.cut(titanic_info['ticket_number'], bins=bins, labels=labels)\n",
    "test_submission['TicketValue'] = pd.cut(test_submission['ticket_number'], bins=bins, labels=labels)\n",
    "\n",
    "sns.barplot(x='TicketValue', y='Survived', data=titanic_info)\n",
    "#sns.barplot(x='ticket_number', y='Survived', data=titanic_info)\n",
    "\n",
    "#titanic_info.head(5)\n",
    "#titanic_info['ticket_number'].dtype\n",
    "#print(len(data))\n",
    "#print(titanic_info.loc[1])\n",
    "#print(titanic_info.loc[867])\n",
    "#print (len(titanic_info))\n",
    "#print(titanic_info['Ticket'].value_counts())"
   ]
  },
  {
   "cell_type": "heading",
   "metadata": {},
   "level": 1,
   "source": [
    "Clean DataFrame"
   ]
  },
  {
   "cell_type": "code",
   "execution_count": 483,
   "metadata": {
    "collapsed": true
   },
   "outputs": [
    {
     "data": {
      "text/html": [
       "<div>\n",
       "<style scoped>\n",
       "    .dataframe tbody tr th:only-of-type {\n",
       "        vertical-align: middle;\n",
       "    }\n",
       "\n",
       "    .dataframe tbody tr th {\n",
       "        vertical-align: top;\n",
       "    }\n",
       "\n",
       "    .dataframe thead th {\n",
       "        text-align: right;\n",
       "    }\n",
       "</style>\n",
       "<table border=\"1\" class=\"dataframe\">\n",
       "  <thead>\n",
       "    <tr style=\"text-align: right;\">\n",
       "      <th></th>\n",
       "      <th>PassengerId</th>\n",
       "      <th>Survived</th>\n",
       "      <th>Pclass</th>\n",
       "      <th>Name</th>\n",
       "      <th>Sex</th>\n",
       "      <th>Age</th>\n",
       "      <th>SibSp</th>\n",
       "      <th>Parch</th>\n",
       "      <th>Ticket</th>\n",
       "      <th>Fare</th>\n",
       "      <th>Cabin</th>\n",
       "      <th>Embarked</th>\n",
       "      <th>AgeGroup</th>\n",
       "      <th>Title</th>\n",
       "      <th>FareGroup</th>\n",
       "      <th>CabinValue</th>\n",
       "      <th>CabinId</th>\n",
       "      <th>ticket_number</th>\n",
       "      <th>TicketValue</th>\n",
       "    </tr>\n",
       "  </thead>\n",
       "  <tbody>\n",
       "    <tr>\n",
       "      <th>0</th>\n",
       "      <td>1</td>\n",
       "      <td>0</td>\n",
       "      <td>3</td>\n",
       "      <td>Braund, Mr. Owen Harris</td>\n",
       "      <td>1</td>\n",
       "      <td>22.0</td>\n",
       "      <td>1</td>\n",
       "      <td>0</td>\n",
       "      <td>A/5 21171</td>\n",
       "      <td>7.2500</td>\n",
       "      <td>U0</td>\n",
       "      <td>S</td>\n",
       "      <td>6</td>\n",
       "      <td>6</td>\n",
       "      <td>3</td>\n",
       "      <td>1</td>\n",
       "      <td>1</td>\n",
       "      <td>21171</td>\n",
       "      <td>4</td>\n",
       "    </tr>\n",
       "    <tr>\n",
       "      <th>1</th>\n",
       "      <td>2</td>\n",
       "      <td>1</td>\n",
       "      <td>1</td>\n",
       "      <td>Cumings, Mrs. John Bradley (Florence Briggs Th...</td>\n",
       "      <td>2</td>\n",
       "      <td>38.0</td>\n",
       "      <td>1</td>\n",
       "      <td>0</td>\n",
       "      <td>PC 17599</td>\n",
       "      <td>71.2833</td>\n",
       "      <td>C85</td>\n",
       "      <td>C</td>\n",
       "      <td>7</td>\n",
       "      <td>5</td>\n",
       "      <td>5</td>\n",
       "      <td>3</td>\n",
       "      <td>2</td>\n",
       "      <td>17599</td>\n",
       "      <td>3</td>\n",
       "    </tr>\n",
       "    <tr>\n",
       "      <th>2</th>\n",
       "      <td>3</td>\n",
       "      <td>1</td>\n",
       "      <td>3</td>\n",
       "      <td>Heikkinen, Miss. Laina</td>\n",
       "      <td>2</td>\n",
       "      <td>26.0</td>\n",
       "      <td>0</td>\n",
       "      <td>0</td>\n",
       "      <td>STON/O2. 3101282</td>\n",
       "      <td>7.9250</td>\n",
       "      <td>U0</td>\n",
       "      <td>S</td>\n",
       "      <td>6</td>\n",
       "      <td>3</td>\n",
       "      <td>3</td>\n",
       "      <td>1</td>\n",
       "      <td>1</td>\n",
       "      <td>3101282</td>\n",
       "      <td>7</td>\n",
       "    </tr>\n",
       "    <tr>\n",
       "      <th>3</th>\n",
       "      <td>4</td>\n",
       "      <td>1</td>\n",
       "      <td>1</td>\n",
       "      <td>Futrelle, Mrs. Jacques Heath (Lily May Peel)</td>\n",
       "      <td>2</td>\n",
       "      <td>35.0</td>\n",
       "      <td>1</td>\n",
       "      <td>0</td>\n",
       "      <td>113803</td>\n",
       "      <td>53.1000</td>\n",
       "      <td>C123</td>\n",
       "      <td>S</td>\n",
       "      <td>6</td>\n",
       "      <td>5</td>\n",
       "      <td>5</td>\n",
       "      <td>3</td>\n",
       "      <td>2</td>\n",
       "      <td>113803</td>\n",
       "      <td>7</td>\n",
       "    </tr>\n",
       "    <tr>\n",
       "      <th>4</th>\n",
       "      <td>5</td>\n",
       "      <td>0</td>\n",
       "      <td>3</td>\n",
       "      <td>Allen, Mr. William Henry</td>\n",
       "      <td>1</td>\n",
       "      <td>35.0</td>\n",
       "      <td>0</td>\n",
       "      <td>0</td>\n",
       "      <td>373450</td>\n",
       "      <td>8.0500</td>\n",
       "      <td>U0</td>\n",
       "      <td>S</td>\n",
       "      <td>6</td>\n",
       "      <td>6</td>\n",
       "      <td>3</td>\n",
       "      <td>1</td>\n",
       "      <td>1</td>\n",
       "      <td>373450</td>\n",
       "      <td>7</td>\n",
       "    </tr>\n",
       "  </tbody>\n",
       "</table>\n",
       "</div>"
      ],
      "text/plain": [
       "<div>\n",
       "<style scoped>\n",
       "    .dataframe tbody tr th:only-of-type {\n",
       "        vertical-align: middle;\n",
       "    }\n",
       "\n",
       "    .dataframe tbody tr th {\n",
       "        vertical-align: top;\n",
       "    }\n",
       "\n",
       "    .dataframe thead th {\n",
       "        text-align: right;\n",
       "    }\n",
       "</style>\n",
       "<table border=\"1\" class=\"dataframe\">\n",
       "  <thead>\n",
       "    <tr style=\"text-align: right;\">\n",
       "      <th></th>\n",
       "      <th>PassengerId</th>\n",
       "      <th>Survived</th>\n",
       "      <th>Pclass</th>\n",
       "      <th>Name</th>\n",
       "      <th>Sex</th>\n",
       "      <th>Age</th>\n",
       "      <th>SibSp</th>\n",
       "      <th>Parch</th>\n",
       "      <th>Ticket</th>\n",
       "      <th>Fare</th>\n",
       "      <th>Cabin</th>\n",
       "      <th>Embarked</th>\n",
       "      <th>AgeGroup</th>\n",
       "      <th>Title</th>\n",
       "      <th>FareGroup</th>\n",
       "      <th>CabinValue</th>\n",
       "      <th>CabinId</th>\n",
       "      <th>ticket_number</th>\n",
       "      <th>TicketValue</th>\n",
       "    </tr>\n",
       "  </thead>\n",
       "  <tbody>\n",
       "    <tr>\n",
       "      <th>0</th>\n",
       "      <td>1</td>\n",
       "      <td>0</td>\n",
       "      <td>3</td>\n",
       "      <td>Braund, Mr. Owen Harris</td>\n",
       "      <td>1</td>\n",
       "      <td>22.0</td>\n",
       "      <td>1</td>\n",
       "      <td>0</td>\n",
       "      <td>A/5 21171</td>\n",
       "      <td>7.2500</td>\n",
       "      <td>U0</td>\n",
       "      <td>S</td>\n",
       "      <td>6</td>\n",
       "      <td>6</td>\n",
       "      <td>3</td>\n",
       "      <td>1</td>\n",
       "      <td>1</td>\n",
       "      <td>21171</td>\n",
       "      <td>4</td>\n",
       "    </tr>\n",
       "    <tr>\n",
       "      <th>1</th>\n",
       "      <td>2</td>\n",
       "      <td>1</td>\n",
       "      <td>1</td>\n",
       "      <td>Cumings, Mrs. John Bradley (Florence Briggs Th...</td>\n",
       "      <td>2</td>\n",
       "      <td>38.0</td>\n",
       "      <td>1</td>\n",
       "      <td>0</td>\n",
       "      <td>PC 17599</td>\n",
       "      <td>71.2833</td>\n",
       "      <td>C85</td>\n",
       "      <td>C</td>\n",
       "      <td>7</td>\n",
       "      <td>5</td>\n",
       "      <td>5</td>\n",
       "      <td>3</td>\n",
       "      <td>2</td>\n",
       "      <td>17599</td>\n",
       "      <td>3</td>\n",
       "    </tr>\n",
       "    <tr>\n",
       "      <th>2</th>\n",
       "      <td>3</td>\n",
       "      <td>1</td>\n",
       "      <td>3</td>\n",
       "      <td>Heikkinen, Miss. Laina</td>\n",
       "      <td>2</td>\n",
       "      <td>26.0</td>\n",
       "      <td>0</td>\n",
       "      <td>0</td>\n",
       "      <td>STON/O2. 3101282</td>\n",
       "      <td>7.9250</td>\n",
       "      <td>U0</td>\n",
       "      <td>S</td>\n",
       "      <td>6</td>\n",
       "      <td>3</td>\n",
       "      <td>3</td>\n",
       "      <td>1</td>\n",
       "      <td>1</td>\n",
       "      <td>3101282</td>\n",
       "      <td>7</td>\n",
       "    </tr>\n",
       "    <tr>\n",
       "      <th>3</th>\n",
       "      <td>4</td>\n",
       "      <td>1</td>\n",
       "      <td>1</td>\n",
       "      <td>Futrelle, Mrs. Jacques Heath (Lily May Peel)</td>\n",
       "      <td>2</td>\n",
       "      <td>35.0</td>\n",
       "      <td>1</td>\n",
       "      <td>0</td>\n",
       "      <td>113803</td>\n",
       "      <td>53.1000</td>\n",
       "      <td>C123</td>\n",
       "      <td>S</td>\n",
       "      <td>6</td>\n",
       "      <td>5</td>\n",
       "      <td>5</td>\n",
       "      <td>3</td>\n",
       "      <td>2</td>\n",
       "      <td>113803</td>\n",
       "      <td>7</td>\n",
       "    </tr>\n",
       "    <tr>\n",
       "      <th>4</th>\n",
       "      <td>5</td>\n",
       "      <td>0</td>\n",
       "      <td>3</td>\n",
       "      <td>Allen, Mr. William Henry</td>\n",
       "      <td>1</td>\n",
       "      <td>35.0</td>\n",
       "      <td>0</td>\n",
       "      <td>0</td>\n",
       "      <td>373450</td>\n",
       "      <td>8.0500</td>\n",
       "      <td>U0</td>\n",
       "      <td>S</td>\n",
       "      <td>6</td>\n",
       "      <td>6</td>\n",
       "      <td>3</td>\n",
       "      <td>1</td>\n",
       "      <td>1</td>\n",
       "      <td>373450</td>\n",
       "      <td>7</td>\n",
       "    </tr>\n",
       "  </tbody>\n",
       "</table>\n",
       "</div>"
      ]
     },
     "execution_count": 483,
     "metadata": {},
     "output_type": "execute_result"
    }
   ],
   "source": [
    "#Sex\n",
    "\n",
    "titanic_info['Sex'].replace('male', 1, inplace=True)\n",
    "titanic_info['Sex'].replace('female', 2, inplace=True)\n",
    "\n",
    "\n",
    "test_submission['Sex'].replace('male', 1, inplace=True)\n",
    "test_submission['Sex'].replace('female', 2, inplace=True)\n",
    "\n",
    "#AgeGroup\n",
    "titanic_info['AgeGroup'].fillna('Unknown', inplace=True)\n",
    "titanic_info['AgeGroup'].replace('Unknown', 1, inplace=True)\n",
    "titanic_info['AgeGroup'].replace('Baby', 2, inplace=True)\n",
    "titanic_info['AgeGroup'].replace('Child', 3, inplace=True)\n",
    "titanic_info['AgeGroup'].replace('Teenager', 4, inplace=True)\n",
    "titanic_info['AgeGroup'].replace('Student', 5, inplace=True)\n",
    "titanic_info['AgeGroup'].replace('Young Adult', 6, inplace=True)\n",
    "titanic_info['AgeGroup'].replace('Adult', 7, inplace=True)\n",
    "titanic_info['AgeGroup'].replace('Senior', 8, inplace=True)\n",
    "\n",
    "test_submission['AgeGroup'].fillna('Unknown', inplace=True)\n",
    "test_submission['AgeGroup'].replace('Unknown', 1, inplace=True)\n",
    "test_submission['AgeGroup'].replace('Baby', 2, inplace=True)\n",
    "test_submission['AgeGroup'].replace('Child', 3, inplace=True)\n",
    "test_submission['AgeGroup'].replace('Teenager', 4, inplace=True)\n",
    "test_submission['AgeGroup'].replace('Student', 5, inplace=True)\n",
    "test_submission['AgeGroup'].replace('Young Adult', 6, inplace=True)\n",
    "test_submission['AgeGroup'].replace('Adult', 7, inplace=True)\n",
    "test_submission['AgeGroup'].replace('Senior', 8, inplace=True)\n",
    "\n",
    "#FareGroup\n",
    "titanic_info['FareGroup'].fillna('Unknown', inplace=True)\n",
    "titanic_info['FareGroup'].replace('Unknown', 1, inplace=True)\n",
    "titanic_info['FareGroup'].replace('Free', 2, inplace=True)\n",
    "titanic_info['FareGroup'].replace('Free-more', 3, inplace=True)\n",
    "titanic_info['FareGroup'].replace('economics', 4, inplace=True)\n",
    "titanic_info['FareGroup'].replace('business', 5, inplace=True)\n",
    "titanic_info['FareGroup'].replace('VIP', 6, inplace=True)\n",
    "\n",
    "test_submission['FareGroup'].fillna('Unknown', inplace=True)\n",
    "test_submission['FareGroup'].replace('Unknown', 1, inplace=True)\n",
    "test_submission['FareGroup'].replace('Free', 2, inplace=True)\n",
    "test_submission['FareGroup'].replace('Free-more', 3, inplace=True)\n",
    "test_submission['FareGroup'].replace('economics', 4, inplace=True)\n",
    "test_submission['FareGroup'].replace('business', 5, inplace=True)\n",
    "test_submission['FareGroup'].replace('VIP', 6, inplace=True)\n",
    "\n",
    "#Title\n",
    "titanic_info['Title'].replace('Rare', 1, inplace=True)\n",
    "titanic_info['Title'].replace('Royal', 2, inplace=True)\n",
    "titanic_info['Title'].replace('Miss', 3, inplace=True)\n",
    "titanic_info['Title'].replace('Miss', 4, inplace=True)\n",
    "titanic_info['Title'].replace('Mrs', 5, inplace=True)\n",
    "titanic_info['Title'].replace('Mr', 6, inplace=True)\n",
    "titanic_info['Title'].replace('Master', 7, inplace=True)\n",
    "\n",
    "test_submission['Title'].replace('Rare', 1, inplace=True)\n",
    "test_submission['Title'].replace('Royal', 2, inplace=True)\n",
    "test_submission['Title'].replace('Miss', 3, inplace=True)\n",
    "test_submission['Title'].replace('Miss', 4, inplace=True)\n",
    "test_submission['Title'].replace('Mrs', 5, inplace=True)\n",
    "test_submission['Title'].replace('Mr', 6, inplace=True)\n",
    "test_submission['Title'].replace('Master', 7, inplace=True)\n",
    "\n",
    "#TicketValue\n",
    "titanic_info['TicketValue'].replace('0', 1, inplace=True)\n",
    "titanic_info['TicketValue'].replace('6000', 2, inplace=True)\n",
    "titanic_info['TicketValue'].replace('15000', 3, inplace=True)\n",
    "titanic_info['TicketValue'].replace('20000', 4, inplace=True)\n",
    "titanic_info['TicketValue'].replace('25000', 5, inplace=True)\n",
    "titanic_info['TicketValue'].replace('30000', 6, inplace=True)\n",
    "titanic_info['TicketValue'].replace('40000', 7, inplace=True)\n",
    "\n",
    "test_submission['TicketValue'].replace('0', 1, inplace=True)\n",
    "test_submission['TicketValue'].replace('6000', 2, inplace=True)\n",
    "test_submission['TicketValue'].replace('15000', 3, inplace=True)\n",
    "test_submission['TicketValue'].replace('20000', 4, inplace=True)\n",
    "test_submission['TicketValue'].replace('25000', 5, inplace=True)\n",
    "test_submission['TicketValue'].replace('30000', 6, inplace=True)\n",
    "test_submission['TicketValue'].replace('40000', 7, inplace=True)\n",
    "\n",
    "#Cabin\n",
    "titanic_info['CabinValue'].replace('0', 1, inplace=True)\n",
    "titanic_info['CabinValue'].replace('1', 2, inplace=True)\n",
    "titanic_info['CabinValue'].replace('42', 3, inplace=True)\n",
    "titanic_info['CabinValue'].replace('123', 4, inplace=True)\n",
    "titanic_info['CabinValue'].replace('310', 5, inplace=True)\n",
    "\n",
    "test_submission['CabinValue'].replace('0', 1, inplace=True)\n",
    "test_submission['CabinValue'].replace('1', 2, inplace=True)\n",
    "test_submission['CabinValue'].replace('42', 3, inplace=True)\n",
    "test_submission['CabinValue'].replace('123', 4, inplace=True)\n",
    "test_submission['CabinValue'].replace('310', 5, inplace=True)\n",
    "\n",
    "titanic_info['CabinId'].replace('U', 1, inplace=True)\n",
    "titanic_info['CabinId'].replace('C', 2, inplace=True)\n",
    "titanic_info['CabinId'].replace('E', 3, inplace=True)\n",
    "titanic_info['CabinId'].replace('G', 4, inplace=True)\n",
    "titanic_info['CabinId'].replace('A', 5, inplace=True)\n",
    "titanic_info['CabinId'].replace('B', 6, inplace=True)\n",
    "titanic_info['CabinId'].replace('F', 7, inplace=True)\n",
    "titanic_info['CabinId'].replace('D', 9, inplace=True)\n",
    "titanic_info['CabinId'].replace('T', 8, inplace=True)\n",
    "\n",
    "test_submission['CabinId'].replace('U', 1, inplace=True)\n",
    "test_submission['CabinId'].replace('C', 2, inplace=True)\n",
    "test_submission['CabinId'].replace('E', 3, inplace=True)\n",
    "test_submission['CabinId'].replace('G', 4, inplace=True)\n",
    "test_submission['CabinId'].replace('A', 5, inplace=True)\n",
    "test_submission['CabinId'].replace('B', 6, inplace=True)\n",
    "test_submission['CabinId'].replace('F', 7, inplace=True)\n",
    "test_submission['CabinId'].replace('D', 9, inplace=True)\n",
    "test_submission['CabinId'].replace('T', 8, inplace=True)\n",
    "\n",
    "titanic_info.head(5)"
   ]
  },
  {
   "cell_type": "code",
   "execution_count": 484,
   "metadata": {
    "collapsed": false
   },
   "outputs": [
    {
     "data": {
      "text/plain": [
       "6    517\n3    185\n5    126\n7     40\n1     21\n2      2\nName: Title, dtype: int64"
      ]
     },
     "execution_count": 484,
     "metadata": {},
     "output_type": "execute_result"
    }
   ],
   "source": [
    "titanic_info = titanic_info.drop(labels=['Name', 'Cabin', 'Ticket', 'Embarked', 'Age', 'Fare', 'PassengerId', 'ticket_number', 'TicketValue', 'CabinId', 'CabinValue'], axis=1)\n",
    "test_submission = test_submission.drop(labels=['Name', 'Cabin', 'Ticket', 'Embarked', 'Age', 'Fare', 'ticket_number', 'TicketValue', 'CabinId', 'CabinValue'], axis=1)\n",
    "titanic_info['Title'].value_counts()"
   ]
  },
  {
   "cell_type": "heading",
   "metadata": {},
   "level": 1,
   "source": [
    "Create a model"
   ]
  },
  {
   "cell_type": "code",
   "execution_count": 485,
   "metadata": {
    "collapsed": false
   },
   "outputs": [
    {
     "data": {
      "text/html": [
       "<div>\n",
       "<style scoped>\n",
       "    .dataframe tbody tr th:only-of-type {\n",
       "        vertical-align: middle;\n",
       "    }\n",
       "\n",
       "    .dataframe tbody tr th {\n",
       "        vertical-align: top;\n",
       "    }\n",
       "\n",
       "    .dataframe thead th {\n",
       "        text-align: right;\n",
       "    }\n",
       "</style>\n",
       "<table border=\"1\" class=\"dataframe\">\n",
       "  <thead>\n",
       "    <tr style=\"text-align: right;\">\n",
       "      <th></th>\n",
       "      <th>Survived</th>\n",
       "      <th>Pclass</th>\n",
       "      <th>Sex</th>\n",
       "      <th>SibSp</th>\n",
       "      <th>Parch</th>\n",
       "      <th>AgeGroup</th>\n",
       "      <th>Title</th>\n",
       "      <th>FareGroup</th>\n",
       "    </tr>\n",
       "  </thead>\n",
       "  <tbody>\n",
       "    <tr>\n",
       "      <th>0</th>\n",
       "      <td>0</td>\n",
       "      <td>3</td>\n",
       "      <td>1</td>\n",
       "      <td>1</td>\n",
       "      <td>0</td>\n",
       "      <td>6</td>\n",
       "      <td>6</td>\n",
       "      <td>3</td>\n",
       "    </tr>\n",
       "    <tr>\n",
       "      <th>1</th>\n",
       "      <td>1</td>\n",
       "      <td>1</td>\n",
       "      <td>2</td>\n",
       "      <td>1</td>\n",
       "      <td>0</td>\n",
       "      <td>7</td>\n",
       "      <td>5</td>\n",
       "      <td>5</td>\n",
       "    </tr>\n",
       "    <tr>\n",
       "      <th>2</th>\n",
       "      <td>1</td>\n",
       "      <td>3</td>\n",
       "      <td>2</td>\n",
       "      <td>0</td>\n",
       "      <td>0</td>\n",
       "      <td>6</td>\n",
       "      <td>3</td>\n",
       "      <td>3</td>\n",
       "    </tr>\n",
       "    <tr>\n",
       "      <th>3</th>\n",
       "      <td>1</td>\n",
       "      <td>1</td>\n",
       "      <td>2</td>\n",
       "      <td>1</td>\n",
       "      <td>0</td>\n",
       "      <td>6</td>\n",
       "      <td>5</td>\n",
       "      <td>5</td>\n",
       "    </tr>\n",
       "    <tr>\n",
       "      <th>4</th>\n",
       "      <td>0</td>\n",
       "      <td>3</td>\n",
       "      <td>1</td>\n",
       "      <td>0</td>\n",
       "      <td>0</td>\n",
       "      <td>6</td>\n",
       "      <td>6</td>\n",
       "      <td>3</td>\n",
       "    </tr>\n",
       "  </tbody>\n",
       "</table>\n",
       "</div>"
      ],
      "text/plain": [
       "<div>\n",
       "<style scoped>\n",
       "    .dataframe tbody tr th:only-of-type {\n",
       "        vertical-align: middle;\n",
       "    }\n",
       "\n",
       "    .dataframe tbody tr th {\n",
       "        vertical-align: top;\n",
       "    }\n",
       "\n",
       "    .dataframe thead th {\n",
       "        text-align: right;\n",
       "    }\n",
       "</style>\n",
       "<table border=\"1\" class=\"dataframe\">\n",
       "  <thead>\n",
       "    <tr style=\"text-align: right;\">\n",
       "      <th></th>\n",
       "      <th>Survived</th>\n",
       "      <th>Pclass</th>\n",
       "      <th>Sex</th>\n",
       "      <th>SibSp</th>\n",
       "      <th>Parch</th>\n",
       "      <th>AgeGroup</th>\n",
       "      <th>Title</th>\n",
       "      <th>FareGroup</th>\n",
       "    </tr>\n",
       "  </thead>\n",
       "  <tbody>\n",
       "    <tr>\n",
       "      <th>0</th>\n",
       "      <td>0</td>\n",
       "      <td>3</td>\n",
       "      <td>1</td>\n",
       "      <td>1</td>\n",
       "      <td>0</td>\n",
       "      <td>6</td>\n",
       "      <td>6</td>\n",
       "      <td>3</td>\n",
       "    </tr>\n",
       "    <tr>\n",
       "      <th>1</th>\n",
       "      <td>1</td>\n",
       "      <td>1</td>\n",
       "      <td>2</td>\n",
       "      <td>1</td>\n",
       "      <td>0</td>\n",
       "      <td>7</td>\n",
       "      <td>5</td>\n",
       "      <td>5</td>\n",
       "    </tr>\n",
       "    <tr>\n",
       "      <th>2</th>\n",
       "      <td>1</td>\n",
       "      <td>3</td>\n",
       "      <td>2</td>\n",
       "      <td>0</td>\n",
       "      <td>0</td>\n",
       "      <td>6</td>\n",
       "      <td>3</td>\n",
       "      <td>3</td>\n",
       "    </tr>\n",
       "    <tr>\n",
       "      <th>3</th>\n",
       "      <td>1</td>\n",
       "      <td>1</td>\n",
       "      <td>2</td>\n",
       "      <td>1</td>\n",
       "      <td>0</td>\n",
       "      <td>6</td>\n",
       "      <td>5</td>\n",
       "      <td>5</td>\n",
       "    </tr>\n",
       "    <tr>\n",
       "      <th>4</th>\n",
       "      <td>0</td>\n",
       "      <td>3</td>\n",
       "      <td>1</td>\n",
       "      <td>0</td>\n",
       "      <td>0</td>\n",
       "      <td>6</td>\n",
       "      <td>6</td>\n",
       "      <td>3</td>\n",
       "    </tr>\n",
       "  </tbody>\n",
       "</table>\n",
       "</div>"
      ]
     },
     "execution_count": 485,
     "metadata": {},
     "output_type": "execute_result"
    }
   ],
   "source": [
    "#titanic_info.dtypes\n",
    "from sklearn.model_selection import train_test_split\n",
    "from sklearn.metrics import accuracy_score\n",
    "\n",
    "targets = titanic_info['Survived']\n",
    "placeholders = titanic_info.drop(['Survived'], axis=1)\n",
    "\n",
    "x_train, x_val, y_train, y_val = train_test_split(placeholders, targets, test_size = 0.22, random_state = 0)\n",
    "\n",
    "titanic_info.head(5)"
   ]
  },
  {
   "cell_type": "code",
   "execution_count": 486,
   "metadata": {
    "collapsed": false
   },
   "outputs": [
    {
     "name": "stdout",
     "output_type": "stream",
     "text": [
      "82.23\n"
     ]
    }
   ],
   "source": [
    "from sklearn.linear_model import LogisticRegression\n",
    "\n",
    "logreg = LogisticRegression(solver='lbfgs')\n",
    "logreg.fit(x_train, y_train)\n",
    "y_pred = logreg.predict(x_val)\n",
    "acc_logreg = round(accuracy_score(y_pred, y_val) * 100, 2)\n",
    "print(acc_logreg)"
   ]
  },
  {
   "cell_type": "code",
   "execution_count": 487,
   "metadata": {},
   "outputs": [
    {
     "name": "stdout",
     "output_type": "stream",
     "text": [
      "80.2\n"
     ]
    },
    {
     "name": "stderr",
     "output_type": "stream",
     "text": [
      "/anaconda3/envs/DNAI_ENV/lib/python3.6/site-packages/sklearn/linear_model/stochastic_gradient.py:144: FutureWarning: max_iter and tol parameters have been added in Perceptron in 0.19. If both are left unset, they default to max_iter=5 and tol=None. If tol is not None, max_iter defaults to max_iter=1000. From 0.21, default max_iter will be 1000, and default tol will be 1e-3.\n  FutureWarning)\n"
     ]
    }
   ],
   "source": [
    "from sklearn.linear_model import Perceptron\n",
    "\n",
    "perceptron = Perceptron()\n",
    "perceptron.fit(x_train, y_train)\n",
    "y_pred = perceptron.predict(x_val)\n",
    "acc_perceptron = round(accuracy_score(y_pred, y_val) * 100, 2)\n",
    "print(acc_perceptron)"
   ]
  },
  {
   "cell_type": "code",
   "execution_count": 488,
   "metadata": {},
   "outputs": [
    {
     "name": "stdout",
     "output_type": "stream",
     "text": [
      "80.2\n"
     ]
    }
   ],
   "source": [
    "#Decision Tree\n",
    "from sklearn.tree import DecisionTreeClassifier\n",
    "\n",
    "decisiontree = DecisionTreeClassifier()\n",
    "decisiontree.fit(x_train, y_train)\n",
    "y_pred = decisiontree.predict(x_val)\n",
    "acc_decisiontree = round(accuracy_score(y_pred, y_val) * 100, 2)\n",
    "print(acc_decisiontree)"
   ]
  },
  {
   "cell_type": "code",
   "execution_count": 489,
   "metadata": {},
   "outputs": [
    {
     "name": "stdout",
     "output_type": "stream",
     "text": [
      "80.71\n"
     ]
    },
    {
     "name": "stderr",
     "output_type": "stream",
     "text": [
      "/anaconda3/envs/DNAI_ENV/lib/python3.6/site-packages/sklearn/ensemble/forest.py:248: FutureWarning: The default value of n_estimators will change from 10 in version 0.20 to 100 in 0.22.\n  \"10 in version 0.20 to 100 in 0.22.\", FutureWarning)\n"
     ]
    }
   ],
   "source": [
    "# Random Forest\n",
    "from sklearn.ensemble import RandomForestClassifier\n",
    "\n",
    "randomforest = RandomForestClassifier()\n",
    "randomforest.fit(x_train, y_train)\n",
    "y_pred = randomforest.predict(x_val)\n",
    "acc_randomforest = round(accuracy_score(y_pred, y_val) * 100, 2)\n",
    "print(acc_randomforest)"
   ]
  },
  {
   "cell_type": "code",
   "execution_count": 490,
   "metadata": {},
   "outputs": [
    {
     "name": "stdout",
     "output_type": "stream",
     "text": [
      "79.7\n"
     ]
    }
   ],
   "source": [
    "# KNN or k-Nearest Neighbors\n",
    "from sklearn.neighbors import KNeighborsClassifier\n",
    "\n",
    "knn = KNeighborsClassifier()\n",
    "knn.fit(x_train, y_train)\n",
    "y_pred = knn.predict(x_val)\n",
    "acc_knn = round(accuracy_score(y_pred, y_val) * 100, 2)\n",
    "print(acc_knn)"
   ]
  },
  {
   "cell_type": "code",
   "execution_count": 491,
   "metadata": {},
   "outputs": [
    {
     "name": "stdout",
     "output_type": "stream",
     "text": [
      "82.74\n"
     ]
    }
   ],
   "source": [
    "# Gradient Boosting Classifier\n",
    "from sklearn.ensemble import GradientBoostingClassifier\n",
    "\n",
    "gbk = GradientBoostingClassifier()\n",
    "gbk.fit(x_train, y_train)\n",
    "y_pred = gbk.predict(x_val)\n",
    "acc_gbk = round(accuracy_score(y_pred, y_val) * 100, 2)\n",
    "print(acc_gbk)"
   ]
  },
  {
   "cell_type": "code",
   "execution_count": 462,
   "metadata": {},
   "outputs": [
    {
     "name": "stdout",
     "output_type": "stream",
     "text": [
      "[0 0 0 0 1 0 1 0 1 0 0 0 1 0 1 1 0 0 0 0 0 1 1 0 1 0 1 0 0 0 0 0 0 0 0 0 1\n 1 0 0 0 0 0 1 1 0 0 0 1 1 0 0 1 1 0 0 0 0 0 1 0 0 0 1 1 1 1 0 0 1 1 0 1 1\n 1 1 0 1 0 1 1 0 0 0 0 0 1 1 1 1 1 0 1 0 0 0 1 0 1 0 1 0 0 0 1 0 0 0 0 0 0\n 1 1 1 1 0 0 1 0 1 1 0 1 0 0 1 0 1 0 0 0 0 1 0 0 0 0 0 1 0 0 1 0 0 0 0 0 0\n 0 0 1 0 0 1 0 0 1 1 0 1 1 1 1 0 0 0 0 0 1 1 0 0 0 0 0 1 1 0 1 1 0 0 1 0 1\n 0 1 0 0 0 0 0 1 0 1 0 1 1 0 1 1 1 0 1 0 0 1 0 1 0 0 0 0 1 0 0 1 0 1 0 1 0\n 1 0 1 1 0 1 0 0 0 1 0 0 0 0 0 0 1 1 1 1 1 0 1 1 1 0 1 1 1 0 0 0 0 0 0 0 1\n 0 0 0 1 1 0 0 0 0 1 0 0 0 1 1 0 1 0 0 0 0 1 1 1 1 1 0 0 1 0 0 0 1 0 1 0 0\n 1 0 0 0 0 0 0 0 1 1 0 1 0 0 0 0 0 0 1 1 0 0 0 0 0 0 0 0 1 0 1 0 0 0 1 0 0\n 0 0 0 0 0 0 1 0 0 0 1 1 1 0 0 0 1 1 0 0 0 0 0 1 0 0 0 0 1 1 0 1 0 0 1 1 0\n 0 1 0 0 1 1 0 0 0 0 0 0 1 0 0 1 0 0 0 0 0 1 1 0 0 1 0 1 0 0 1 0 1 0 1 0 0\n 0 1 1 1 1 1 0 1 0 0 1]\n"
     ]
    }
   ],
   "source": [
    "ids = test_submission['PassengerId']\n",
    "test_submission.head(155)\n",
    "predictions = gbk.predict(test_submission.drop('PassengerId', axis=1))\n",
    "#test_submission.describe()\n",
    "\n",
    "#set the output as a dataframe and convert to csv file named submission.csv\n",
    "print(predictions)\n",
    "output = pd.DataFrame({'PassengerId' : ids, 'Survived': predictions})\n",
    "output.to_csv('submission4.csv', index=False)"
   ]
  },
  {
   "cell_type": "code",
   "execution_count": 409,
   "metadata": {},
   "outputs": [],
   "source": [
    ""
   ]
  },
  {
   "cell_type": "code",
   "execution_count": null,
   "metadata": {},
   "outputs": [],
   "source": [
    ""
   ]
  }
 ],
 "metadata": {
  "kernelspec": {
   "display_name": "Python 2",
   "language": "python",
   "name": "python2"
  },
  "language_info": {
   "codemirror_mode": {
    "name": "ipython",
    "version": 2.0
   },
   "file_extension": ".py",
   "mimetype": "text/x-python",
   "name": "python",
   "nbconvert_exporter": "python",
   "pygments_lexer": "ipython2",
   "version": "2.7.6"
  }
 },
 "nbformat": 4,
 "nbformat_minor": 0
}